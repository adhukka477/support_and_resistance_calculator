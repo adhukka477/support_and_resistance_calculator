{
 "cells": [
  {
   "cell_type": "code",
   "execution_count": 83,
   "metadata": {},
   "outputs": [
    {
     "name": "stdout",
     "output_type": "stream",
     "text": [
      "The autoreload extension is already loaded. To reload it, use:\n",
      "  %reload_ext autoreload\n"
     ]
    }
   ],
   "source": [
    "%load_ext autoreload\n",
    "%autoreload 2\n",
    "from level_scanner import WindowScanner"
   ]
  },
  {
   "cell_type": "code",
   "execution_count": 88,
   "metadata": {},
   "outputs": [],
   "source": [
    "scanner = WindowScanner(ticker = \"AAPL\", window = 10, shift=5, interval='w', alpha=.05)"
   ]
  },
  {
   "cell_type": "code",
   "execution_count": 89,
   "metadata": {},
   "outputs": [
    {
     "data": {
      "text/plain": [
       "[1,\n",
       " 3.0,\n",
       " 7,\n",
       " 9.0,\n",
       " 11,\n",
       " 13,\n",
       " 14,\n",
       " 15,\n",
       " 16,\n",
       " 18,\n",
       " 23,\n",
       " 25.5,\n",
       " 29.5,\n",
       " 37,\n",
       " 40.0,\n",
       " 44.5,\n",
       " 54.0,\n",
       " 58,\n",
       " 81,\n",
       " 123.5,\n",
       " 131.5,\n",
       " 137.5,\n",
       " 147.5,\n",
       " 157,\n",
       " 176,\n",
       " 180.5]"
      ]
     },
     "execution_count": 89,
     "metadata": {},
     "output_type": "execute_result"
    }
   ],
   "source": [
    "scanner.calculatePriceLevels()\n",
    "scanner.levels = [int(x) for x in scanner.levels if int(x) != 0]\n",
    "scanner.levels.sort()\n",
    "scanner.levels"
   ]
  }
 ],
 "metadata": {
  "kernelspec": {
   "display_name": ".env",
   "language": "python",
   "name": "python3"
  },
  "language_info": {
   "codemirror_mode": {
    "name": "ipython",
    "version": 3
   },
   "file_extension": ".py",
   "mimetype": "text/x-python",
   "name": "python",
   "nbconvert_exporter": "python",
   "pygments_lexer": "ipython3",
   "version": "3.10.8"
  },
  "orig_nbformat": 4,
  "vscode": {
   "interpreter": {
    "hash": "971eb1bff1b92452ab84151a0e8bb5cc644bf2b76a2bcc05d90723c9a57c6c55"
   }
  }
 },
 "nbformat": 4,
 "nbformat_minor": 2
}
