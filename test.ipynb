{
 "cells": [
  {
   "cell_type": "code",
   "execution_count": 1,
   "metadata": {},
   "outputs": [],
   "source": [
    "from level_scanner import WindowScanner"
   ]
  },
  {
   "cell_type": "code",
   "execution_count": 8,
   "metadata": {},
   "outputs": [],
   "source": [
    "scanner = WindowScanner(ticker = \"AAPL\", window = 5, shift=5, interval='1wk')"
   ]
  },
  {
   "cell_type": "code",
   "execution_count": 10,
   "metadata": {},
   "outputs": [
    {
     "data": {
      "text/plain": [
       "[(2100, 115.00312119820845),\n",
       " (2109, 121.18589514080888),\n",
       " (2118, 148.69434630540616),\n",
       " (2126, 156.12469209224182),\n",
       " (2130, 137.27179787764453),\n",
       " (2143, 181.88438725403608),\n",
       " (2155, 178.8011127046862),\n",
       " (2166, 128.64758635663256),\n",
       " (2175, 175.85826846337196),\n",
       " (2183, 134.14746435959546)]"
      ]
     },
     "execution_count": 10,
     "metadata": {},
     "output_type": "execute_result"
    }
   ],
   "source": [
    "scanner.calculatePriceLevels()\n",
    "scanner.levels[-10:]"
   ]
  }
 ],
 "metadata": {
  "kernelspec": {
   "display_name": ".env",
   "language": "python",
   "name": "python3"
  },
  "language_info": {
   "codemirror_mode": {
    "name": "ipython",
    "version": 3
   },
   "file_extension": ".py",
   "mimetype": "text/x-python",
   "name": "python",
   "nbconvert_exporter": "python",
   "pygments_lexer": "ipython3",
   "version": "3.10.8 (tags/v3.10.8:aaaf517, Oct 11 2022, 16:50:30) [MSC v.1933 64 bit (AMD64)]"
  },
  "orig_nbformat": 4,
  "vscode": {
   "interpreter": {
    "hash": "971eb1bff1b92452ab84151a0e8bb5cc644bf2b76a2bcc05d90723c9a57c6c55"
   }
  }
 },
 "nbformat": 4,
 "nbformat_minor": 2
}
